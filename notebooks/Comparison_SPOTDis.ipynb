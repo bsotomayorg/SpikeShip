{
 "cells": [
  {
   "cell_type": "markdown",
   "metadata": {},
   "source": [
    "# Comparison with SPOTDis"
   ]
  },
  {
   "cell_type": "code",
   "execution_count": null,
   "metadata": {},
   "outputs": [],
   "source": [
    "import sys\n",
    "import joblib\n",
    "sys.modules['sklearn.externals.joblib'] = joblib\n",
    "import hdbscan\n",
    "import matplotlib.pylab as plt\n",
    "import numpy as np\n",
    "\n",
    "from sklearn.manifold import TSNE\n",
    "from spikeship import spikeship, tools\n",
    "from spot import spot"
   ]
  },
  {
   "cell_type": "markdown",
   "metadata": {},
   "source": [
    "### Reading data sources"
   ]
  },
  {
   "cell_type": "code",
   "execution_count": null,
   "metadata": {},
   "outputs": [],
   "source": [
    "spike_times    = np.load('../example_data/spotdis_simulations/spike_times.npy')\n",
    "ii_spike_times = np.load('../example_data/spotdis_simulations/ii_spike_times.npy')\n",
    "epoch_labels   = np.load('../example_data/spotdis_simulations/stim_label.npy')\n",
    "print (\"ii_spike_times.shape\", ii_spike_times.shape)\n",
    "print (\"# epochs =\", ii_spike_times.shape[0])\n",
    "print (\"# neurons =\",ii_spike_times.shape[1])\n",
    "\n",
    "spot_dissimilarities = None; spikeship_diss = None; G = None;"
   ]
  },
  {
   "cell_type": "markdown",
   "metadata": {},
   "source": [
    "### SPOTDis & SpikeShip computations"
   ]
  },
  {
   "cell_type": "code",
   "execution_count": null,
   "metadata": {},
   "outputs": [],
   "source": [
    "%%time\n",
    "spot_diss = spot.distances(spike_times, ii_spike_times)"
   ]
  },
  {
   "cell_type": "code",
   "execution_count": null,
   "metadata": {},
   "outputs": [],
   "source": [
    "%%time\n",
    "spikeship_diss = spikeship.distances(spike_times, ii_spike_times)"
   ]
  },
  {
   "cell_type": "code",
   "execution_count": null,
   "metadata": {},
   "outputs": [],
   "source": [
    "plt.clf()\n",
    "alpha = 0.5; marker = 'o';\n",
    "tPlot,axes = plt.subplots(\n",
    "    figsize=(10.5,4), facecolor='w',nrows=1, ncols=2, sharex=False, sharey=False, constrained_layout=True)\n",
    "\n",
    "# true labels sorting\n",
    "si = np.argsort(epoch_labels)\n",
    "print (\"epoch_labels shape:\", si.shape)\n",
    "\n",
    "# dissimilarity matrices (vis)\n",
    "im0 = axes[0].imshow(spot_diss[:, si][si], cmap='PuBu')\n",
    "\n",
    "axes[0].set_xlabel('Epoch',fontsize=13); axes[0].set_ylabel('Epoch',fontsize=13);\n",
    "plt.colorbar(im0, ax=axes[0], label='SPOTDis')\n",
    "\n",
    "im1 = axes[1].imshow(spikeship_diss[:, si][si], cmap='PuBu')\n",
    "\n",
    "axes[1].set_xlabel('Epoch',fontsize=13); axes[1].set_ylabel('Epoch',fontsize=13);\n",
    "_ = plt.colorbar(im1, ax=axes[1], label='SpikeShip')"
   ]
  },
  {
   "cell_type": "markdown",
   "metadata": {},
   "source": [
    "SPOTDis has a computational complexity of $\\mathcal{O}(M^2N^2n^2)$, where $M$ is the number of epochs or trials, $N$ is the number of active Neurons, and $n$ the average spikes per epoch. In contrast, SpikeShip has a computational complexity of $\\mathcal{O}(M^2 N n)$ (i.e., quadratic speed-up).\n",
    "\n",
    "---\n",
    "\n",
    "### Visualization of clusters by using SPOTDis and SpikeShip dissimilarity measures"
   ]
  },
  {
   "cell_type": "code",
   "execution_count": null,
   "metadata": {},
   "outputs": [],
   "source": [
    "clusterer = hdbscan.HDBSCAN(metric='precomputed')\n",
    "spot_labels = clusterer.fit_predict(spot_diss)\n",
    "\n",
    "clusterer = hdbscan.HDBSCAN(metric='precomputed')\n",
    "spikeship_labels = clusterer.fit_predict(spikeship_diss)\n",
    "\n",
    "print(len(np.unique(spot_labels)), 'clusters found (SPOTDis)')\n",
    "print(len(np.unique(spikeship_labels)), 'clusters found (SpikeShip, neuron-specific flows)')"
   ]
  },
  {
   "cell_type": "code",
   "execution_count": null,
   "metadata": {},
   "outputs": [],
   "source": [
    "spot_embedding = TSNE(metric='precomputed', n_components=2).fit_transform(spot_diss)\n",
    "spikeship_embedding   = TSNE(metric='precomputed', n_components=2).fit_transform(spikeship_diss)"
   ]
  },
  {
   "cell_type": "code",
   "execution_count": null,
   "metadata": {},
   "outputs": [],
   "source": [
    "tPlot,axes = plt.subplots(\n",
    "    figsize=(10,3.7), facecolor='w',nrows=1, ncols=3, sharex=False, sharey=False, constrained_layout=True)\n",
    "\n",
    "plt.suptitle('2D t-SNE embeddings',fontsize=20)\n",
    "axes[0].set_title('True clusters')\n",
    "axes[0].scatter(spot_embedding[:, 0], spot_embedding[:, 1], cmap='Set1_r', c=epoch_labels)\n",
    "\n",
    "axes[1].set_title('SPOTDis clusters')\n",
    "axes[1].scatter(spot_embedding[:, 0], spot_embedding[:, 1], cmap='Set1_r', c=spot_labels)\n",
    "\n",
    "axes[2].set_title('SpikeShip clusters')\n",
    "axes[2].scatter(spikeship_embedding[:, 0], spikeship_embedding[:, 1], cmap='Set1_r', c=spikeship_labels);"
   ]
  },
  {
   "cell_type": "markdown",
   "metadata": {},
   "source": [
    "---"
   ]
  }
 ],
 "metadata": {
  "kernelspec": {
   "display_name": "Python [conda env:allensdk_SS]",
   "language": "python",
   "name": "conda-env-allensdk_SS-py"
  },
  "language_info": {
   "codemirror_mode": {
    "name": "ipython",
    "version": 3
   },
   "file_extension": ".py",
   "mimetype": "text/x-python",
   "name": "python",
   "nbconvert_exporter": "python",
   "pygments_lexer": "ipython3",
   "version": "3.6.10"
  }
 },
 "nbformat": 4,
 "nbformat_minor": 2
}
