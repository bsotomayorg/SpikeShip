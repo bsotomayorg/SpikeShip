{
 "cells": [
  {
   "cell_type": "markdown",
   "metadata": {},
   "source": [
    "# SpikeShip - Demo\n",
    "\n",
    "Application of SpikeShip algorithm using simulated data from the work of Grossberger et al. (2018) https://github.com/LGro/spot/blob/master/notebooks/SPOTDisClust_Demo.ipynb.\n"
   ]
  },
  {
   "cell_type": "code",
   "execution_count": null,
   "metadata": {},
   "outputs": [],
   "source": [
    "import numpy as np\n",
    "from spot import spot, tools\n",
    "from spikeship import spikeship, tools\n",
    "import matplotlib.pylab as plt\n",
    "\n",
    "# warnings from jupyter notebook\n",
    "import warnings\n",
    "warnings.filterwarnings('ignore')"
   ]
  },
  {
   "cell_type": "markdown",
   "metadata": {},
   "source": [
    "### Reading data sources"
   ]
  },
  {
   "cell_type": "code",
   "execution_count": null,
   "metadata": {},
   "outputs": [],
   "source": [
    "spike_times    = np.load('../example_data/spotdis_simulations/spike_times.npy')\n",
    "ii_spike_times = np.load('../example_data/spotdis_simulations/ii_spike_times.npy')\n",
    "epoch_labels   = np.load('../example_data/spotdis_simulations/stim_label.npy')\n",
    "print (\"ii_spike_times.shape\", ii_spike_times.shape)\n",
    "print (\"# epochs =\", ii_spike_times.shape[0])\n",
    "print (\"# neurons =\",ii_spike_times.shape[1])\n",
    "\n",
    "spot_dissimilarities = None; ss_dissimilarities = None; G = None;"
   ]
  },
  {
   "cell_type": "markdown",
   "metadata": {},
   "source": [
    "### SPOTDis computation"
   ]
  },
  {
   "cell_type": "code",
   "execution_count": null,
   "metadata": {},
   "outputs": [],
   "source": [
    "%%time\n",
    "spot_dissimilarities = spot.distances(spike_times, ii_spike_times, metric='SPOTD_xcorr')"
   ]
  },
  {
   "cell_type": "markdown",
   "metadata": {},
   "source": [
    "### SpikeShip computation"
   ]
  },
  {
   "cell_type": "code",
   "execution_count": null,
   "metadata": {
    "scrolled": true
   },
   "outputs": [],
   "source": [
    "%%time\n",
    "# computation of neuron specific-flows\n",
    "ss_dissimilarities = spikeship.distances(spike_times, ii_spike_times)"
   ]
  },
  {
   "cell_type": "markdown",
   "metadata": {},
   "source": [
    "### Visualization of SPOTDis and SpikeShip dissimilarity matrices"
   ]
  },
  {
   "cell_type": "code",
   "execution_count": null,
   "metadata": {},
   "outputs": [],
   "source": [
    "plt.clf()\n",
    "alpha = 0.5; marker = 'o';\n",
    "tPlot,axes = plt.subplots(\n",
    "    figsize=(10.5,4), facecolor='w',nrows=1, ncols=2, sharex=False, sharey=False, constrained_layout=True)\n",
    "\n",
    "# true labels sorting\n",
    "si = np.argsort(epoch_labels)\n",
    "print (\"epoch_labels shape:\", si.shape)\n",
    "\n",
    "# dissimilarity matrices (vis)\n",
    "im0 = axes[0].imshow(spot_dissimilarities[:, si][si], cmap='PuBu')\n",
    "\n",
    "axes[0].set_xlabel('Epoch',fontsize=13); axes[0].set_ylabel('Epoch',fontsize=13);\n",
    "plt.colorbar(im0, ax=axes[0], label='SPOTDis')\n",
    "\n",
    "im1 = axes[1].imshow(ss_dissimilarities[:, si][si], cmap='PuBu')\n",
    "\n",
    "axes[1].set_xlabel('Epoch',fontsize=13); axes[1].set_ylabel('Epoch',fontsize=13);\n",
    "_ = plt.colorbar(im1, ax=axes[1], label='SpikeShip')"
   ]
  },
  {
   "cell_type": "markdown",
   "metadata": {},
   "source": [
    "In order to compute these dissimilarity matrices, SPOTDis has a computational complexity of $\\mathcal{O}(M^2N^2n^2)$, where $M$ is the number of epochs or trials, $N$ is the number of active Neurons, and $n$ the average spikes per epoch. In contrast, SpikeShip has a computational complexity of $\\mathcal{O}(M^2 N n)$ (Quadratic speed-up).\n",
    "\n",
    "---\n",
    "\n",
    "### Visualization of clusters by using SPOTDis and SpikeShip dissimilarity measures"
   ]
  },
  {
   "cell_type": "code",
   "execution_count": null,
   "metadata": {},
   "outputs": [],
   "source": [
    "# to install sklearn run:\n",
    "# ! conda install -c anaconda scikit-learn==0.22.1"
   ]
  },
  {
   "cell_type": "code",
   "execution_count": null,
   "metadata": {
    "scrolled": true
   },
   "outputs": [],
   "source": [
    "import sys\n",
    "import joblib\n",
    "sys.modules['sklearn.externals.joblib'] = joblib\n",
    "import hdbscan\n",
    "from sklearn.manifold import TSNE"
   ]
  },
  {
   "cell_type": "code",
   "execution_count": null,
   "metadata": {
    "scrolled": true
   },
   "outputs": [],
   "source": [
    "clusterer = hdbscan.HDBSCAN(metric='precomputed')\n",
    "spot_labels = clusterer.fit_predict(spot_dissimilarities)\n",
    "\n",
    "\n",
    "clusterer = hdbscan.HDBSCAN(metric='precomputed')\n",
    "ss_dis_labels = clusterer.fit_predict(ss_dissimilarities)\n",
    "\n",
    "print(len(np.unique(spot_labels)), 'clusters found (SPOTDis)')\n",
    "print(len(np.unique(ss_dis_labels)), 'clusters found (SpikeShip, neuron-specific flows)')"
   ]
  },
  {
   "cell_type": "code",
   "execution_count": null,
   "metadata": {},
   "outputs": [],
   "source": [
    "spot_embedding = TSNE(metric='precomputed', n_components=2).fit_transform(spot_dissimilarities)\n",
    "ss_embedding   = TSNE(metric='precomputed', n_components=2).fit_transform(ss_dissimilarities)"
   ]
  },
  {
   "cell_type": "code",
   "execution_count": null,
   "metadata": {
    "scrolled": false
   },
   "outputs": [],
   "source": [
    "tPlot,axes = plt.subplots(\n",
    "    figsize=(10,3.5), facecolor='w',nrows=1, ncols=3, sharex=False, sharey=False, constrained_layout=True)\n",
    "\n",
    "plt.suptitle('2D t-SNE embeddings',fontsize=20)\n",
    "axes[0].set_title('True clusters')\n",
    "axes[0].scatter(spot_embedding[:, 0], spot_embedding[:, 1], cmap='Set1_r', c=epoch_labels)\n",
    "\n",
    "axes[1].set_title('SPOTDis clusters')\n",
    "axes[1].scatter(spot_embedding[:, 0], spot_embedding[:, 1], cmap='Set1_r', c=spot_labels)\n",
    "\n",
    "axes[2].set_title('SpikeShip neuron-specific shift clusters')\n",
    "axes[2].scatter(ss_embedding[:, 0], ss_embedding[:, 1], cmap='Set1_r', c=ss_dis_labels);\n"
   ]
  },
  {
   "cell_type": "markdown",
   "metadata": {},
   "source": [
    "---\n",
    "Check out our paper for more details:\n",
    "\n",
    "Sotomayor-Gómez, B., Battaglia, F. P., & Vinck, M. (2021). [SpikeShip: A method for fast, unsupervised discovery of high-dimensional neural spiking patterns](https://doi.org/10.1101/2020.06.03.131573). *bioRxiv*.\n",
    "\n",
    "---"
   ]
  }
 ],
 "metadata": {
  "kernelspec": {
   "display_name": "Python [conda env:spot]",
   "language": "python",
   "name": "conda-env-spot-py"
  },
  "language_info": {
   "codemirror_mode": {
    "name": "ipython",
    "version": 3
   },
   "file_extension": ".py",
   "mimetype": "text/x-python",
   "name": "python",
   "nbconvert_exporter": "python",
   "pygments_lexer": "ipython3",
   "version": "3.6.5"
  },
  "vscode": {
   "interpreter": {
    "hash": "acf6bdd1442e3b75771c889a9c7094516f61c0010031d4759411095b8c55090a"
   }
  }
 },
 "nbformat": 4,
 "nbformat_minor": 4
}
