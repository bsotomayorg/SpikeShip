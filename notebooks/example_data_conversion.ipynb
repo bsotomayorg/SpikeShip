{
 "cells": [
  {
   "cell_type": "markdown",
   "id": "7c418311",
   "metadata": {},
   "source": [
    "# Example: Data conversion for SPOTDis and SpikeShip algorithms"
   ]
  },
  {
   "cell_type": "markdown",
   "id": "1c9e60c7",
   "metadata": {},
   "source": [
    "Consider the case when your data format is as follows:\n",
    "+ an array `1xn` called `raw_spike_times` which contains all the times of $n$ spikes.\n",
    "+ an array `1xN` called `neuron_ids` which contains the neuron identity of each spike (i.e., $N$: total of neurons), and\n",
    "+ a `Mx2` called `event_intervals` array which contains the start (first column) and stop (second column) times of all my $M$ trials.\n",
    "\n",
    "In this tutorial, I introduce a simple method to convert and process input dataset with this format."
   ]
  },
  {
   "cell_type": "code",
   "execution_count": 1,
   "id": "f69134a6",
   "metadata": {},
   "outputs": [],
   "source": [
    "import numpy as np"
   ]
  },
  {
   "cell_type": "markdown",
   "id": "33cb6f45",
   "metadata": {},
   "source": [
    "**Generating data**\n"
   ]
  },
  {
   "cell_type": "code",
   "execution_count": 2,
   "id": "cdea4b79",
   "metadata": {},
   "outputs": [],
   "source": [
    "num_spikes = 10_000 # number of spikes\n",
    "N = 100  # number of neurons\n",
    "M = 200 # number of trials"
   ]
  },
  {
   "cell_type": "code",
   "execution_count": 3,
   "id": "f6d00c2f",
   "metadata": {},
   "outputs": [
    {
     "data": {
      "text/plain": [
       "(10000,)"
      ]
     },
     "execution_count": 3,
     "metadata": {},
     "output_type": "execute_result"
    }
   ],
   "source": [
    "raw_spike_times = np.random.random(size=(num_spikes))\n",
    "raw_spike_times.shape"
   ]
  },
  {
   "cell_type": "code",
   "execution_count": 4,
   "id": "4ec462d1",
   "metadata": {},
   "outputs": [
    {
     "data": {
      "text/plain": [
       "(10000,)"
      ]
     },
     "execution_count": 4,
     "metadata": {},
     "output_type": "execute_result"
    }
   ],
   "source": [
    "neuron_ids = np.random.randint(low=0, high=N, size=(num_spikes), dtype=np.int16)\n",
    "neuron_ids.shape"
   ]
  },
  {
   "cell_type": "markdown",
   "id": "360a62d8",
   "metadata": {},
   "source": [
    "Defining epochs based on start and end times of trials:"
   ]
  },
  {
   "cell_type": "code",
   "execution_count": 5,
   "id": "d4b8bdbd",
   "metadata": {},
   "outputs": [
    {
     "data": {
      "text/plain": [
       "array([0.   , 0.005, 0.01 , 0.015, 0.02 , 0.025, 0.03 , 0.035, 0.04 ,\n",
       "       0.045, 0.05 , 0.055, 0.06 , 0.065, 0.07 , 0.075, 0.08 , 0.085,\n",
       "       0.09 , 0.095, 0.1  , 0.105, 0.11 , 0.115, 0.12 , 0.125, 0.13 ,\n",
       "       0.135, 0.14 , 0.145, 0.15 , 0.155, 0.16 , 0.165, 0.17 , 0.175,\n",
       "       0.18 , 0.185, 0.19 , 0.195, 0.2  , 0.205, 0.21 , 0.215, 0.22 ,\n",
       "       0.225, 0.23 , 0.235, 0.24 , 0.245, 0.25 , 0.255, 0.26 , 0.265,\n",
       "       0.27 , 0.275, 0.28 , 0.285, 0.29 , 0.295, 0.3  , 0.305, 0.31 ,\n",
       "       0.315, 0.32 , 0.325, 0.33 , 0.335, 0.34 , 0.345, 0.35 , 0.355,\n",
       "       0.36 , 0.365, 0.37 , 0.375, 0.38 , 0.385, 0.39 , 0.395, 0.4  ,\n",
       "       0.405, 0.41 , 0.415, 0.42 , 0.425, 0.43 , 0.435, 0.44 , 0.445,\n",
       "       0.45 , 0.455, 0.46 , 0.465, 0.47 , 0.475, 0.48 , 0.485, 0.49 ,\n",
       "       0.495, 0.5  , 0.505, 0.51 , 0.515, 0.52 , 0.525, 0.53 , 0.535,\n",
       "       0.54 , 0.545, 0.55 , 0.555, 0.56 , 0.565, 0.57 , 0.575, 0.58 ,\n",
       "       0.585, 0.59 , 0.595, 0.6  , 0.605, 0.61 , 0.615, 0.62 , 0.625,\n",
       "       0.63 , 0.635, 0.64 , 0.645, 0.65 , 0.655, 0.66 , 0.665, 0.67 ,\n",
       "       0.675, 0.68 , 0.685, 0.69 , 0.695, 0.7  , 0.705, 0.71 , 0.715,\n",
       "       0.72 , 0.725, 0.73 , 0.735, 0.74 , 0.745, 0.75 , 0.755, 0.76 ,\n",
       "       0.765, 0.77 , 0.775, 0.78 , 0.785, 0.79 , 0.795, 0.8  , 0.805,\n",
       "       0.81 , 0.815, 0.82 , 0.825, 0.83 , 0.835, 0.84 , 0.845, 0.85 ,\n",
       "       0.855, 0.86 , 0.865, 0.87 , 0.875, 0.88 , 0.885, 0.89 , 0.895,\n",
       "       0.9  , 0.905, 0.91 , 0.915, 0.92 , 0.925, 0.93 , 0.935, 0.94 ,\n",
       "       0.945, 0.95 , 0.955, 0.96 , 0.965, 0.97 , 0.975, 0.98 , 0.985,\n",
       "       0.99 , 0.995, 1.   ])"
      ]
     },
     "execution_count": 5,
     "metadata": {},
     "output_type": "execute_result"
    }
   ],
   "source": [
    "intervals = np.linspace(start=0, stop=1, num=(M+1))\n",
    "intervals"
   ]
  },
  {
   "cell_type": "markdown",
   "id": "eee99db1",
   "metadata": {},
   "source": [
    "For this example, I'll consider a case of consecutive epochs where each of them has $1/M$ as length."
   ]
  },
  {
   "cell_type": "code",
   "execution_count": 6,
   "id": "5e52116c",
   "metadata": {},
   "outputs": [],
   "source": [
    "event_intervals = np.zeros(shape=(M,2))\n",
    "for i in range(M):\n",
    "    event_intervals[i][0], event_intervals[i][1] = intervals[i], intervals[i+1]"
   ]
  },
  {
   "cell_type": "code",
   "execution_count": 7,
   "id": "728afc5e",
   "metadata": {},
   "outputs": [
    {
     "data": {
      "text/plain": [
       "array([[0.   , 0.005],\n",
       "       [0.005, 0.01 ],\n",
       "       [0.01 , 0.015],\n",
       "       [0.015, 0.02 ],\n",
       "       [0.02 , 0.025],\n",
       "       [0.025, 0.03 ],\n",
       "       [0.03 , 0.035],\n",
       "       [0.035, 0.04 ],\n",
       "       [0.04 , 0.045],\n",
       "       [0.045, 0.05 ],\n",
       "       [0.05 , 0.055],\n",
       "       [0.055, 0.06 ],\n",
       "       [0.06 , 0.065],\n",
       "       [0.065, 0.07 ],\n",
       "       [0.07 , 0.075],\n",
       "       [0.075, 0.08 ],\n",
       "       [0.08 , 0.085],\n",
       "       [0.085, 0.09 ],\n",
       "       [0.09 , 0.095],\n",
       "       [0.095, 0.1  ],\n",
       "       [0.1  , 0.105],\n",
       "       [0.105, 0.11 ],\n",
       "       [0.11 , 0.115],\n",
       "       [0.115, 0.12 ],\n",
       "       [0.12 , 0.125],\n",
       "       [0.125, 0.13 ],\n",
       "       [0.13 , 0.135],\n",
       "       [0.135, 0.14 ],\n",
       "       [0.14 , 0.145],\n",
       "       [0.145, 0.15 ],\n",
       "       [0.15 , 0.155],\n",
       "       [0.155, 0.16 ],\n",
       "       [0.16 , 0.165],\n",
       "       [0.165, 0.17 ],\n",
       "       [0.17 , 0.175],\n",
       "       [0.175, 0.18 ],\n",
       "       [0.18 , 0.185],\n",
       "       [0.185, 0.19 ],\n",
       "       [0.19 , 0.195],\n",
       "       [0.195, 0.2  ],\n",
       "       [0.2  , 0.205],\n",
       "       [0.205, 0.21 ],\n",
       "       [0.21 , 0.215],\n",
       "       [0.215, 0.22 ],\n",
       "       [0.22 , 0.225],\n",
       "       [0.225, 0.23 ],\n",
       "       [0.23 , 0.235],\n",
       "       [0.235, 0.24 ],\n",
       "       [0.24 , 0.245],\n",
       "       [0.245, 0.25 ],\n",
       "       [0.25 , 0.255],\n",
       "       [0.255, 0.26 ],\n",
       "       [0.26 , 0.265],\n",
       "       [0.265, 0.27 ],\n",
       "       [0.27 , 0.275],\n",
       "       [0.275, 0.28 ],\n",
       "       [0.28 , 0.285],\n",
       "       [0.285, 0.29 ],\n",
       "       [0.29 , 0.295],\n",
       "       [0.295, 0.3  ],\n",
       "       [0.3  , 0.305],\n",
       "       [0.305, 0.31 ],\n",
       "       [0.31 , 0.315],\n",
       "       [0.315, 0.32 ],\n",
       "       [0.32 , 0.325],\n",
       "       [0.325, 0.33 ],\n",
       "       [0.33 , 0.335],\n",
       "       [0.335, 0.34 ],\n",
       "       [0.34 , 0.345],\n",
       "       [0.345, 0.35 ],\n",
       "       [0.35 , 0.355],\n",
       "       [0.355, 0.36 ],\n",
       "       [0.36 , 0.365],\n",
       "       [0.365, 0.37 ],\n",
       "       [0.37 , 0.375],\n",
       "       [0.375, 0.38 ],\n",
       "       [0.38 , 0.385],\n",
       "       [0.385, 0.39 ],\n",
       "       [0.39 , 0.395],\n",
       "       [0.395, 0.4  ],\n",
       "       [0.4  , 0.405],\n",
       "       [0.405, 0.41 ],\n",
       "       [0.41 , 0.415],\n",
       "       [0.415, 0.42 ],\n",
       "       [0.42 , 0.425],\n",
       "       [0.425, 0.43 ],\n",
       "       [0.43 , 0.435],\n",
       "       [0.435, 0.44 ],\n",
       "       [0.44 , 0.445],\n",
       "       [0.445, 0.45 ],\n",
       "       [0.45 , 0.455],\n",
       "       [0.455, 0.46 ],\n",
       "       [0.46 , 0.465],\n",
       "       [0.465, 0.47 ],\n",
       "       [0.47 , 0.475],\n",
       "       [0.475, 0.48 ],\n",
       "       [0.48 , 0.485],\n",
       "       [0.485, 0.49 ],\n",
       "       [0.49 , 0.495],\n",
       "       [0.495, 0.5  ],\n",
       "       [0.5  , 0.505],\n",
       "       [0.505, 0.51 ],\n",
       "       [0.51 , 0.515],\n",
       "       [0.515, 0.52 ],\n",
       "       [0.52 , 0.525],\n",
       "       [0.525, 0.53 ],\n",
       "       [0.53 , 0.535],\n",
       "       [0.535, 0.54 ],\n",
       "       [0.54 , 0.545],\n",
       "       [0.545, 0.55 ],\n",
       "       [0.55 , 0.555],\n",
       "       [0.555, 0.56 ],\n",
       "       [0.56 , 0.565],\n",
       "       [0.565, 0.57 ],\n",
       "       [0.57 , 0.575],\n",
       "       [0.575, 0.58 ],\n",
       "       [0.58 , 0.585],\n",
       "       [0.585, 0.59 ],\n",
       "       [0.59 , 0.595],\n",
       "       [0.595, 0.6  ],\n",
       "       [0.6  , 0.605],\n",
       "       [0.605, 0.61 ],\n",
       "       [0.61 , 0.615],\n",
       "       [0.615, 0.62 ],\n",
       "       [0.62 , 0.625],\n",
       "       [0.625, 0.63 ],\n",
       "       [0.63 , 0.635],\n",
       "       [0.635, 0.64 ],\n",
       "       [0.64 , 0.645],\n",
       "       [0.645, 0.65 ],\n",
       "       [0.65 , 0.655],\n",
       "       [0.655, 0.66 ],\n",
       "       [0.66 , 0.665],\n",
       "       [0.665, 0.67 ],\n",
       "       [0.67 , 0.675],\n",
       "       [0.675, 0.68 ],\n",
       "       [0.68 , 0.685],\n",
       "       [0.685, 0.69 ],\n",
       "       [0.69 , 0.695],\n",
       "       [0.695, 0.7  ],\n",
       "       [0.7  , 0.705],\n",
       "       [0.705, 0.71 ],\n",
       "       [0.71 , 0.715],\n",
       "       [0.715, 0.72 ],\n",
       "       [0.72 , 0.725],\n",
       "       [0.725, 0.73 ],\n",
       "       [0.73 , 0.735],\n",
       "       [0.735, 0.74 ],\n",
       "       [0.74 , 0.745],\n",
       "       [0.745, 0.75 ],\n",
       "       [0.75 , 0.755],\n",
       "       [0.755, 0.76 ],\n",
       "       [0.76 , 0.765],\n",
       "       [0.765, 0.77 ],\n",
       "       [0.77 , 0.775],\n",
       "       [0.775, 0.78 ],\n",
       "       [0.78 , 0.785],\n",
       "       [0.785, 0.79 ],\n",
       "       [0.79 , 0.795],\n",
       "       [0.795, 0.8  ],\n",
       "       [0.8  , 0.805],\n",
       "       [0.805, 0.81 ],\n",
       "       [0.81 , 0.815],\n",
       "       [0.815, 0.82 ],\n",
       "       [0.82 , 0.825],\n",
       "       [0.825, 0.83 ],\n",
       "       [0.83 , 0.835],\n",
       "       [0.835, 0.84 ],\n",
       "       [0.84 , 0.845],\n",
       "       [0.845, 0.85 ],\n",
       "       [0.85 , 0.855],\n",
       "       [0.855, 0.86 ],\n",
       "       [0.86 , 0.865],\n",
       "       [0.865, 0.87 ],\n",
       "       [0.87 , 0.875],\n",
       "       [0.875, 0.88 ],\n",
       "       [0.88 , 0.885],\n",
       "       [0.885, 0.89 ],\n",
       "       [0.89 , 0.895],\n",
       "       [0.895, 0.9  ],\n",
       "       [0.9  , 0.905],\n",
       "       [0.905, 0.91 ],\n",
       "       [0.91 , 0.915],\n",
       "       [0.915, 0.92 ],\n",
       "       [0.92 , 0.925],\n",
       "       [0.925, 0.93 ],\n",
       "       [0.93 , 0.935],\n",
       "       [0.935, 0.94 ],\n",
       "       [0.94 , 0.945],\n",
       "       [0.945, 0.95 ],\n",
       "       [0.95 , 0.955],\n",
       "       [0.955, 0.96 ],\n",
       "       [0.96 , 0.965],\n",
       "       [0.965, 0.97 ],\n",
       "       [0.97 , 0.975],\n",
       "       [0.975, 0.98 ],\n",
       "       [0.98 , 0.985],\n",
       "       [0.985, 0.99 ],\n",
       "       [0.99 , 0.995],\n",
       "       [0.995, 1.   ]])"
      ]
     },
     "execution_count": 7,
     "metadata": {},
     "output_type": "execute_result"
    }
   ],
   "source": [
    "event_intervals"
   ]
  },
  {
   "cell_type": "markdown",
   "id": "0222b82f",
   "metadata": {},
   "source": [
    "**Data transformation**"
   ]
  },
  {
   "cell_type": "code",
   "execution_count": 8,
   "id": "c3d4ed95",
   "metadata": {},
   "outputs": [],
   "source": [
    "def to_spikeship_dataformat(raw_spike_times, neuron_ids, epoch_intervals):\n",
    "    \"\"\"\n",
    "    Processes spike times relative to epoch intervals and return `spike_times` and\n",
    "    `ii_spike_times` indices for spikeship's data format. `raw_spike_times` is an\n",
    "    array with all the spike times of a dataset, `neuron_ids` is the neuron to\n",
    "    which such spike belongs to, and `epoch_intervals` contains the start and end\n",
    "    time to consider for defining each epoch.\n",
    "\n",
    "    Parameters\n",
    "    ----------\n",
    "    raw_spike_times : numpy.ndarray\n",
    "    Array of 1xn which contains all the spike times (n).\n",
    "    neuron_ids : numpy.ndarray\n",
    "    Array of 1xN labels which correspond to neurons identity of each spike (i.e., N \n",
    "    neurons).\n",
    "    epoch_intervals : numpy.ndarray\n",
    "    Array of `Mx2` values. `M` corresponds to the number of trials or epochs.\n",
    "    First and second columns correspond to start and stop times, respectively.\n",
    "\n",
    "    Returns\n",
    "    -------\n",
    "    spike_times : numpy.ndarray\n",
    "        Array with relative spike times.\n",
    "    ii_spikes_times: numpy.ndarray\n",
    "        `(M,N,2)`-Array with indices per neuron (N) and epoch (M).\n",
    "    \"\"\"\n",
    "\n",
    "    total_n = raw_spike_times.shape[0]\n",
    "    M = epoch_intervals.shape[0]\n",
    "    N = np.unique(neuron_ids).shape[0]\n",
    "\n",
    "    spike_times = [] \n",
    "    ii_spike_times = [] \n",
    "\n",
    "    count_st = 0\n",
    "    current_count = 0\n",
    "\n",
    "    for i_M in range(M):\n",
    "        t_start = epoch_intervals[i_M][0]\n",
    "        t_end = epoch_intervals[i_M][1]\n",
    "\n",
    "        temp_ii_spike_times = []\n",
    "        for i_N in range(N):\n",
    "            neuron_id = neuron_ids[i_N]\n",
    "            indices = np.where(neuron_ids == neuron_id)[0]\n",
    "\n",
    "            mask = ((raw_spike_times[indices] >= t_start) & (raw_spike_times[indices] < t_end))\n",
    "\n",
    "            current_count = int(np.sum(mask))\n",
    "\n",
    "            if current_count > 0:\n",
    "                temp_spike_train = raw_spike_times[indices][mask]\n",
    "                # spike times are relative to trial onset\n",
    "                temp_spike_train = temp_spike_train - t_start \n",
    "                spike_times.append(temp_spike_train)\n",
    "\n",
    "            temp_ii_spike_times.append([current_count, (count_st+current_count)])\n",
    "            current_count += current_count\n",
    "        ii_spike_times.append(temp_ii_spike_times)\n",
    "\n",
    "    spike_times = np.concatenate(spike_times)\n",
    "    ii_spike_times = np.array(ii_spike_times)\n",
    "\n",
    "    return spike_times, ii_spike_times\n"
   ]
  },
  {
   "cell_type": "code",
   "execution_count": 9,
   "id": "3028e26d",
   "metadata": {},
   "outputs": [
    {
     "name": "stdout",
     "output_type": "stream",
     "text": [
      "CPU times: user 403 ms, sys: 4.95 ms, total: 408 ms\n",
      "Wall time: 407 ms\n"
     ]
    }
   ],
   "source": [
    "%%time\n",
    "spike_times, ii_spike_times = to_spikeship_dataformat(\n",
    "    raw_spike_times, neuron_ids, event_intervals\n",
    "    )"
   ]
  },
  {
   "cell_type": "markdown",
   "id": "a844bc13",
   "metadata": {},
   "source": [
    "Now, the data format for `ii_spike_times` considers `M` trials and `N` neurons:"
   ]
  },
  {
   "cell_type": "code",
   "execution_count": 10,
   "id": "8d47f29f",
   "metadata": {},
   "outputs": [
    {
     "data": {
      "text/plain": [
       "(6.616630418010416e-07, 0.004999820382463521)"
      ]
     },
     "execution_count": 10,
     "metadata": {},
     "output_type": "execute_result"
    }
   ],
   "source": [
    "np.min(spike_times), np.max(spike_times)"
   ]
  },
  {
   "cell_type": "code",
   "execution_count": 11,
   "id": "7cf05a27",
   "metadata": {},
   "outputs": [
    {
     "data": {
      "text/plain": [
       "(200, 100, 2)"
      ]
     },
     "execution_count": 11,
     "metadata": {},
     "output_type": "execute_result"
    }
   ],
   "source": [
    "ii_spike_times.shape"
   ]
  },
  {
   "cell_type": "markdown",
   "id": "4093f6c6",
   "metadata": {},
   "source": [
    "---"
   ]
  }
 ],
 "metadata": {
  "kernelspec": {
   "display_name": "Python [conda env:spot]",
   "language": "python",
   "name": "conda-env-spot-py"
  },
  "language_info": {
   "codemirror_mode": {
    "name": "ipython",
    "version": 3
   },
   "file_extension": ".py",
   "mimetype": "text/x-python",
   "name": "python",
   "nbconvert_exporter": "python",
   "pygments_lexer": "ipython3",
   "version": "3.6.5"
  }
 },
 "nbformat": 4,
 "nbformat_minor": 5
}
